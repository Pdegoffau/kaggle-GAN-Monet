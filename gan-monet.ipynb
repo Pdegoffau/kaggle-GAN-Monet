{
 "cells": [
  {
   "cell_type": "markdown",
   "id": "b309f788",
   "metadata": {},
   "source": [
    "This notebook is my first experience with Generative Adversial Networks(GAN). I'm taking part in the competition on kaggle around Monet: https://www.kaggle.com/competitions/gan-getting-started. This notebook is published on github (https://github.com/Pdegoffau/kaggle-GAN-Monet). The challenge is to create a system which can transform photos into images that look like paintings from Monet. This can be done by using a GAN.\n",
    "\n",
    "# Generative Adversial Networks\n",
    "Generative Adversial Networks (GAN) are neural networks that are designed to generate new content. To create this system a discriminator, generator and a loss function is needed. The generator will generate new content. The discriminator will evaluate if the content is fake or not. By using a proper loss function the generator can be trained to fool the discriminator to classify the generated content as true (instead of fake).\n",
    "\n",
    "In this notebook we will first evaluate the provided images and read them in memory. After that the discriminator will be trained to classify if images are made by Monet or not. Then the generator will be trained using the discriminator and loss function. Finally the system will be applied to the provided photos and the result will be submitted on the Kaggle competition.\n"
   ]
  },
  {
   "cell_type": "code",
   "execution_count": null,
   "id": "cc6b7627",
   "metadata": {},
   "outputs": [],
   "source": []
  }
 ],
 "metadata": {
  "kernelspec": {
   "display_name": "Python 3 (ipykernel)",
   "language": "python",
   "name": "python3"
  },
  "language_info": {
   "codemirror_mode": {
    "name": "ipython",
    "version": 3
   },
   "file_extension": ".py",
   "mimetype": "text/x-python",
   "name": "python",
   "nbconvert_exporter": "python",
   "pygments_lexer": "ipython3",
   "version": "3.9.7"
  }
 },
 "nbformat": 4,
 "nbformat_minor": 5
}
