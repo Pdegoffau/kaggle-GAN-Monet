{
 "cells": [
  {
   "cell_type": "markdown",
   "id": "65e081f8",
   "metadata": {},
   "source": [
    "This notebook is my first experience with Generative Adversial Networks(GAN). I'm taking part in the competition on kaggle around Monet: https://www.kaggle.com/competitions/gan-getting-started. This notebook is published on github (https://github.com/Pdegoffau/kaggle-GAN-Monet). The challenge is to create a system which can transform photos into images that look like paintings from Monet. This can be done by using a GAN.\n",
    "\n",
    "# Generative Adversial Networks\n",
    "Generative Adversial Networks (GAN) are neural networks that are designed to generate new content. To create this system a discriminator, generator and a loss function is needed. The generator will generate new content. The discriminator will evaluate if the content is fake or not. By using a proper loss function the generator can be trained to fool the discriminator to classify the generated content as true (instead of fake).\n",
    "\n",
    "## CycleGAN\n",
    "A specific version of GANs is CycleGAN, which is a network with a cycle layout. This is used for the situation where you want to transfer content from one class to another class, having examples for both classes, but none of them a direct translation. Like in this challenge, 'normal' photos have been supplied as well as paintings by Monet. However, there is no direct relation between the provided photos and paintings. In order to be able to transform photos into paintings in the right style, we need a generator and a discriminator. However, how are we going to train them? For that we would need training data, but we don't have one-on-one translations available. In order to enable training we can use another generator and discriminator to transform monet paintings to photos. This gives the possibility to define a loss function for the full flow through generator-1, discriminator-1, generator-2 and discriminator-2. \n",
    "\n",
    "In this notebook we will first evaluate the provided images and read them in memory. After that we will construct and train the cycleGAN using Keras. Finally the system will be applied to the provided photos and the result will be submitted on the Kaggle competition."
   ]
  },
  {
   "cell_type": "code",
   "execution_count": 2,
   "id": "d883cf84",
   "metadata": {},
   "outputs": [],
   "source": [
    "import tensorflow as tf\n",
    "from tensorflow import keras\n",
    "from tensorflow.keras import layers"
   ]
  },
  {
   "cell_type": "code",
   "execution_count": 3,
   "id": "6b9d2e8e",
   "metadata": {},
   "outputs": [
    {
     "name": "stdout",
     "output_type": "stream",
     "text": [
      "Monet TFRecord Files: 5\n",
      "Photo TFRecord Files: 20\n"
     ]
    }
   ],
   "source": [
    "input_path = 'input/'\n",
    "\n",
    "MONET_FILENAMES = tf.io.gfile.glob(str(input_path + '/monet_tfrec/*.tfrec'))\n",
    "print('Monet TFRecord Files:', len(MONET_FILENAMES))\n",
    "\n",
    "PHOTO_FILENAMES = tf.io.gfile.glob(str(input_path + '/photo_tfrec/*.tfrec'))\n",
    "print('Photo TFRecord Files:', len(PHOTO_FILENAMES))"
   ]
  },
  {
   "cell_type": "code",
   "execution_count": null,
   "id": "4a1ef457",
   "metadata": {},
   "outputs": [],
   "source": []
  }
 ],
 "metadata": {
  "kernelspec": {
   "display_name": "Python 3 (ipykernel)",
   "language": "python",
   "name": "python3"
  },
  "language_info": {
   "codemirror_mode": {
    "name": "ipython",
    "version": 3
   },
   "file_extension": ".py",
   "mimetype": "text/x-python",
   "name": "python",
   "nbconvert_exporter": "python",
   "pygments_lexer": "ipython3",
   "version": "3.9.7"
  }
 },
 "nbformat": 4,
 "nbformat_minor": 5
}
